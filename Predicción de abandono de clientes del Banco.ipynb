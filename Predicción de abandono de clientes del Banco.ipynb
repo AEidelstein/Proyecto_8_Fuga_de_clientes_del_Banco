{
 "cells": [
  {
   "cell_type": "markdown",
   "metadata": {},
   "source": [
    "# Introducción"
   ]
  },
  {
   "cell_type": "markdown",
   "metadata": {},
   "source": [
    "<font color=green>\n",
    "Los clientes de Beta Bank se están yendo, cada mes, poco a poco. Los banqueros descubrieron que es más barato salvar a los clientes existentes que atraer nuevos.\n",
    "    \n",
    "Necesitamos predecir si un cliente dejará el banco pronto. Tú tienes los datos sobre el comportamiento pasado de los clientes y la terminación de contratos con el banco.    \n",
    "    \n",
    "    \n",
    "</font>"
   ]
  },
  {
   "cell_type": "markdown",
   "metadata": {},
   "source": [
    "# Objetivo"
   ]
  },
  {
   "cell_type": "markdown",
   "metadata": {},
   "source": [
    "<font color=green>\n",
    "    \n",
    "- Crear un modelo con el máximo valor F1 posible. Para aprobar la revisión, necesitamos un valor F1 de al menos 0.59. Verificar F1 para el conjunto de prueba.\n",
    "\n",
    "- Medir la métrica AUC-ROC y compararla con el valor F1.\n",
    "</font>"
   ]
  },
  {
   "cell_type": "markdown",
   "metadata": {},
   "source": [
    "# Librerías y Datos "
   ]
  },
  {
   "cell_type": "markdown",
   "metadata": {},
   "source": [
    "## Librerías"
   ]
  },
  {
   "cell_type": "code",
   "execution_count": 1,
   "metadata": {},
   "outputs": [],
   "source": [
    "import pandas as pd\n",
    "import numpy as np\n",
    "import matplotlib.pyplot as plt\n",
    "\n",
    "from sklearn import set_config\n",
    "from sklearn.model_selection import train_test_split\n",
    "from sklearn.tree import DecisionTreeClassifier\n",
    "from sklearn.ensemble import RandomForestClassifier\n",
    "from sklearn.linear_model import LogisticRegression\n",
    "from sklearn.metrics import accuracy_score\n",
    "from sklearn.metrics import f1_score\n",
    "from sklearn.metrics import recall_score\n",
    "from sklearn.metrics import precision_score\n",
    "from sklearn.metrics import roc_auc_score\n",
    "from sklearn.metrics import mean_squared_error\n",
    "\n"
   ]
  },
  {
   "cell_type": "markdown",
   "metadata": {},
   "source": [
    "## Datos"
   ]
  },
  {
   "cell_type": "code",
   "execution_count": 2,
   "metadata": {},
   "outputs": [],
   "source": [
    "try:\n",
    "    data = pd.read_csv('Churn.csv')\n",
    "except:\n",
    "    data = pd.read_csv('/datasets/Churn.csv')"
   ]
  },
  {
   "cell_type": "markdown",
   "metadata": {},
   "source": [
    "### Exploración de Datos"
   ]
  },
  {
   "cell_type": "code",
   "execution_count": 3,
   "metadata": {},
   "outputs": [
    {
     "name": "stdout",
     "output_type": "stream",
     "text": [
      "<class 'pandas.core.frame.DataFrame'>\n",
      "RangeIndex: 10000 entries, 0 to 9999\n",
      "Data columns (total 14 columns):\n",
      " #   Column           Non-Null Count  Dtype  \n",
      "---  ------           --------------  -----  \n",
      " 0   RowNumber        10000 non-null  int64  \n",
      " 1   CustomerId       10000 non-null  int64  \n",
      " 2   Surname          10000 non-null  object \n",
      " 3   CreditScore      10000 non-null  int64  \n",
      " 4   Geography        10000 non-null  object \n",
      " 5   Gender           10000 non-null  object \n",
      " 6   Age              10000 non-null  int64  \n",
      " 7   Tenure           9091 non-null   float64\n",
      " 8   Balance          10000 non-null  float64\n",
      " 9   NumOfProducts    10000 non-null  int64  \n",
      " 10  HasCrCard        10000 non-null  int64  \n",
      " 11  IsActiveMember   10000 non-null  int64  \n",
      " 12  EstimatedSalary  10000 non-null  float64\n",
      " 13  Exited           10000 non-null  int64  \n",
      "dtypes: float64(3), int64(8), object(3)\n",
      "memory usage: 1.1+ MB\n"
     ]
    }
   ],
   "source": [
    "data.info()"
   ]
  },
  {
   "cell_type": "markdown",
   "metadata": {},
   "source": [
    "<font color=green>\n",
    "Observamos un total de 14 columnas, con 10000 datos. Menos la columna Tenure, que tiene datos faltantes. Estos datos iremos analizando y completando.\n",
    "    \n",
    "    \n",
    "</font>"
   ]
  },
  {
   "cell_type": "code",
   "execution_count": 4,
   "metadata": {},
   "outputs": [
    {
     "data": {
      "text/html": [
       "<div>\n",
       "<style scoped>\n",
       "    .dataframe tbody tr th:only-of-type {\n",
       "        vertical-align: middle;\n",
       "    }\n",
       "\n",
       "    .dataframe tbody tr th {\n",
       "        vertical-align: top;\n",
       "    }\n",
       "\n",
       "    .dataframe thead th {\n",
       "        text-align: right;\n",
       "    }\n",
       "</style>\n",
       "<table border=\"1\" class=\"dataframe\">\n",
       "  <thead>\n",
       "    <tr style=\"text-align: right;\">\n",
       "      <th></th>\n",
       "      <th>RowNumber</th>\n",
       "      <th>CustomerId</th>\n",
       "      <th>Surname</th>\n",
       "      <th>CreditScore</th>\n",
       "      <th>Geography</th>\n",
       "      <th>Gender</th>\n",
       "      <th>Age</th>\n",
       "      <th>Tenure</th>\n",
       "      <th>Balance</th>\n",
       "      <th>NumOfProducts</th>\n",
       "      <th>HasCrCard</th>\n",
       "      <th>IsActiveMember</th>\n",
       "      <th>EstimatedSalary</th>\n",
       "      <th>Exited</th>\n",
       "    </tr>\n",
       "  </thead>\n",
       "  <tbody>\n",
       "    <tr>\n",
       "      <th>0</th>\n",
       "      <td>1</td>\n",
       "      <td>15634602</td>\n",
       "      <td>Hargrave</td>\n",
       "      <td>619</td>\n",
       "      <td>France</td>\n",
       "      <td>Female</td>\n",
       "      <td>42</td>\n",
       "      <td>2.0</td>\n",
       "      <td>0.00</td>\n",
       "      <td>1</td>\n",
       "      <td>1</td>\n",
       "      <td>1</td>\n",
       "      <td>101348.88</td>\n",
       "      <td>1</td>\n",
       "    </tr>\n",
       "    <tr>\n",
       "      <th>1</th>\n",
       "      <td>2</td>\n",
       "      <td>15647311</td>\n",
       "      <td>Hill</td>\n",
       "      <td>608</td>\n",
       "      <td>Spain</td>\n",
       "      <td>Female</td>\n",
       "      <td>41</td>\n",
       "      <td>1.0</td>\n",
       "      <td>83807.86</td>\n",
       "      <td>1</td>\n",
       "      <td>0</td>\n",
       "      <td>1</td>\n",
       "      <td>112542.58</td>\n",
       "      <td>0</td>\n",
       "    </tr>\n",
       "    <tr>\n",
       "      <th>2</th>\n",
       "      <td>3</td>\n",
       "      <td>15619304</td>\n",
       "      <td>Onio</td>\n",
       "      <td>502</td>\n",
       "      <td>France</td>\n",
       "      <td>Female</td>\n",
       "      <td>42</td>\n",
       "      <td>8.0</td>\n",
       "      <td>159660.80</td>\n",
       "      <td>3</td>\n",
       "      <td>1</td>\n",
       "      <td>0</td>\n",
       "      <td>113931.57</td>\n",
       "      <td>1</td>\n",
       "    </tr>\n",
       "    <tr>\n",
       "      <th>3</th>\n",
       "      <td>4</td>\n",
       "      <td>15701354</td>\n",
       "      <td>Boni</td>\n",
       "      <td>699</td>\n",
       "      <td>France</td>\n",
       "      <td>Female</td>\n",
       "      <td>39</td>\n",
       "      <td>1.0</td>\n",
       "      <td>0.00</td>\n",
       "      <td>2</td>\n",
       "      <td>0</td>\n",
       "      <td>0</td>\n",
       "      <td>93826.63</td>\n",
       "      <td>0</td>\n",
       "    </tr>\n",
       "    <tr>\n",
       "      <th>4</th>\n",
       "      <td>5</td>\n",
       "      <td>15737888</td>\n",
       "      <td>Mitchell</td>\n",
       "      <td>850</td>\n",
       "      <td>Spain</td>\n",
       "      <td>Female</td>\n",
       "      <td>43</td>\n",
       "      <td>2.0</td>\n",
       "      <td>125510.82</td>\n",
       "      <td>1</td>\n",
       "      <td>1</td>\n",
       "      <td>1</td>\n",
       "      <td>79084.10</td>\n",
       "      <td>0</td>\n",
       "    </tr>\n",
       "  </tbody>\n",
       "</table>\n",
       "</div>"
      ],
      "text/plain": [
       "   RowNumber  CustomerId   Surname  CreditScore Geography  Gender  Age  \\\n",
       "0          1    15634602  Hargrave          619    France  Female   42   \n",
       "1          2    15647311      Hill          608     Spain  Female   41   \n",
       "2          3    15619304      Onio          502    France  Female   42   \n",
       "3          4    15701354      Boni          699    France  Female   39   \n",
       "4          5    15737888  Mitchell          850     Spain  Female   43   \n",
       "\n",
       "   Tenure    Balance  NumOfProducts  HasCrCard  IsActiveMember  \\\n",
       "0     2.0       0.00              1          1               1   \n",
       "1     1.0   83807.86              1          0               1   \n",
       "2     8.0  159660.80              3          1               0   \n",
       "3     1.0       0.00              2          0               0   \n",
       "4     2.0  125510.82              1          1               1   \n",
       "\n",
       "   EstimatedSalary  Exited  \n",
       "0        101348.88       1  \n",
       "1        112542.58       0  \n",
       "2        113931.57       1  \n",
       "3         93826.63       0  \n",
       "4         79084.10       0  "
      ]
     },
     "execution_count": 4,
     "metadata": {},
     "output_type": "execute_result"
    }
   ],
   "source": [
    "data.head()"
   ]
  },
  {
   "cell_type": "code",
   "execution_count": 5,
   "metadata": {},
   "outputs": [
    {
     "data": {
      "text/html": [
       "<div>\n",
       "<style scoped>\n",
       "    .dataframe tbody tr th:only-of-type {\n",
       "        vertical-align: middle;\n",
       "    }\n",
       "\n",
       "    .dataframe tbody tr th {\n",
       "        vertical-align: top;\n",
       "    }\n",
       "\n",
       "    .dataframe thead th {\n",
       "        text-align: right;\n",
       "    }\n",
       "</style>\n",
       "<table border=\"1\" class=\"dataframe\">\n",
       "  <thead>\n",
       "    <tr style=\"text-align: right;\">\n",
       "      <th></th>\n",
       "      <th>RowNumber</th>\n",
       "      <th>CustomerId</th>\n",
       "      <th>Surname</th>\n",
       "      <th>CreditScore</th>\n",
       "      <th>Geography</th>\n",
       "      <th>Gender</th>\n",
       "      <th>Age</th>\n",
       "      <th>Tenure</th>\n",
       "      <th>Balance</th>\n",
       "      <th>NumOfProducts</th>\n",
       "      <th>HasCrCard</th>\n",
       "      <th>IsActiveMember</th>\n",
       "      <th>EstimatedSalary</th>\n",
       "      <th>Exited</th>\n",
       "    </tr>\n",
       "  </thead>\n",
       "  <tbody>\n",
       "    <tr>\n",
       "      <th>9995</th>\n",
       "      <td>9996</td>\n",
       "      <td>15606229</td>\n",
       "      <td>Obijiaku</td>\n",
       "      <td>771</td>\n",
       "      <td>France</td>\n",
       "      <td>Male</td>\n",
       "      <td>39</td>\n",
       "      <td>5.0</td>\n",
       "      <td>0.00</td>\n",
       "      <td>2</td>\n",
       "      <td>1</td>\n",
       "      <td>0</td>\n",
       "      <td>96270.64</td>\n",
       "      <td>0</td>\n",
       "    </tr>\n",
       "    <tr>\n",
       "      <th>9996</th>\n",
       "      <td>9997</td>\n",
       "      <td>15569892</td>\n",
       "      <td>Johnstone</td>\n",
       "      <td>516</td>\n",
       "      <td>France</td>\n",
       "      <td>Male</td>\n",
       "      <td>35</td>\n",
       "      <td>10.0</td>\n",
       "      <td>57369.61</td>\n",
       "      <td>1</td>\n",
       "      <td>1</td>\n",
       "      <td>1</td>\n",
       "      <td>101699.77</td>\n",
       "      <td>0</td>\n",
       "    </tr>\n",
       "    <tr>\n",
       "      <th>9997</th>\n",
       "      <td>9998</td>\n",
       "      <td>15584532</td>\n",
       "      <td>Liu</td>\n",
       "      <td>709</td>\n",
       "      <td>France</td>\n",
       "      <td>Female</td>\n",
       "      <td>36</td>\n",
       "      <td>7.0</td>\n",
       "      <td>0.00</td>\n",
       "      <td>1</td>\n",
       "      <td>0</td>\n",
       "      <td>1</td>\n",
       "      <td>42085.58</td>\n",
       "      <td>1</td>\n",
       "    </tr>\n",
       "    <tr>\n",
       "      <th>9998</th>\n",
       "      <td>9999</td>\n",
       "      <td>15682355</td>\n",
       "      <td>Sabbatini</td>\n",
       "      <td>772</td>\n",
       "      <td>Germany</td>\n",
       "      <td>Male</td>\n",
       "      <td>42</td>\n",
       "      <td>3.0</td>\n",
       "      <td>75075.31</td>\n",
       "      <td>2</td>\n",
       "      <td>1</td>\n",
       "      <td>0</td>\n",
       "      <td>92888.52</td>\n",
       "      <td>1</td>\n",
       "    </tr>\n",
       "    <tr>\n",
       "      <th>9999</th>\n",
       "      <td>10000</td>\n",
       "      <td>15628319</td>\n",
       "      <td>Walker</td>\n",
       "      <td>792</td>\n",
       "      <td>France</td>\n",
       "      <td>Female</td>\n",
       "      <td>28</td>\n",
       "      <td>NaN</td>\n",
       "      <td>130142.79</td>\n",
       "      <td>1</td>\n",
       "      <td>1</td>\n",
       "      <td>0</td>\n",
       "      <td>38190.78</td>\n",
       "      <td>0</td>\n",
       "    </tr>\n",
       "  </tbody>\n",
       "</table>\n",
       "</div>"
      ],
      "text/plain": [
       "      RowNumber  CustomerId    Surname  CreditScore Geography  Gender  Age  \\\n",
       "9995       9996    15606229   Obijiaku          771    France    Male   39   \n",
       "9996       9997    15569892  Johnstone          516    France    Male   35   \n",
       "9997       9998    15584532        Liu          709    France  Female   36   \n",
       "9998       9999    15682355  Sabbatini          772   Germany    Male   42   \n",
       "9999      10000    15628319     Walker          792    France  Female   28   \n",
       "\n",
       "      Tenure    Balance  NumOfProducts  HasCrCard  IsActiveMember  \\\n",
       "9995     5.0       0.00              2          1               0   \n",
       "9996    10.0   57369.61              1          1               1   \n",
       "9997     7.0       0.00              1          0               1   \n",
       "9998     3.0   75075.31              2          1               0   \n",
       "9999     NaN  130142.79              1          1               0   \n",
       "\n",
       "      EstimatedSalary  Exited  \n",
       "9995         96270.64       0  \n",
       "9996        101699.77       0  \n",
       "9997         42085.58       1  \n",
       "9998         92888.52       1  \n",
       "9999         38190.78       0  "
      ]
     },
     "execution_count": 5,
     "metadata": {},
     "output_type": "execute_result"
    }
   ],
   "source": [
    "data.tail()"
   ]
  },
  {
   "cell_type": "code",
   "execution_count": 6,
   "metadata": {},
   "outputs": [
    {
     "name": "stdout",
     "output_type": "stream",
     "text": [
      "Index(['RowNumber', 'CustomerId', 'Surname', 'CreditScore', 'Geography',\n",
      "       'Gender', 'Age', 'Tenure', 'Balance', 'NumOfProducts', 'HasCrCard',\n",
      "       'IsActiveMember', 'EstimatedSalary', 'Exited'],\n",
      "      dtype='object')\n"
     ]
    }
   ],
   "source": [
    "print(data.columns)"
   ]
  },
  {
   "cell_type": "markdown",
   "metadata": {},
   "source": [
    "### Descripción y observación de datos \n",
    "\n",
    "<font color=green>\n",
    "Revisando la información de nuestro DataFrame, observamos lo siguiente:\n",
    "    \n",
    "- Tenemos un total de 14 columnas.\n",
    "\n",
    "    - `RowNumber`: índice de cadena de datos\n",
    "    - `CustomerId`: identificador de cliente único\n",
    "    - `Surname`: apellido\n",
    "    - `CreditScore`: valor de crédito\n",
    "    - `Geography`: país de residencia\n",
    "    - `Gender`: sexo\n",
    "    - `Age`: edad\n",
    "    - `Tenure`: período durante el cual ha madurado el depósito a plazo fijo de un cliente (años)\n",
    "    - `Balance`: saldo de la cuenta\n",
    "    - `NumOfProducts`: número de productos bancarios utilizados por el cliente\n",
    "    - `HasCrCard`: el cliente tiene una tarjeta de crédito (1 - sí; 0 - no)\n",
    "    - `IsActiveMember`: actividad del cliente (1 - sí; 0 - no)\n",
    "    - `EstimatedSalary`: salario estimado\n",
    "    \n",
    "    \n",
    "\n",
    "- La columna `Tenure` tiene datos faltantes, se corregirá.\n",
    "- No tiene datos de formato equivocado.\n",
    "- 3 columnas son de formato object y las restantes 11 columnas son numéricas.\n",
    "\n",
    "\n",
    "</font>"
   ]
  },
  {
   "cell_type": "code",
   "execution_count": 7,
   "metadata": {},
   "outputs": [
    {
     "data": {
      "text/html": [
       "<div>\n",
       "<style scoped>\n",
       "    .dataframe tbody tr th:only-of-type {\n",
       "        vertical-align: middle;\n",
       "    }\n",
       "\n",
       "    .dataframe tbody tr th {\n",
       "        vertical-align: top;\n",
       "    }\n",
       "\n",
       "    .dataframe thead th {\n",
       "        text-align: right;\n",
       "    }\n",
       "</style>\n",
       "<table border=\"1\" class=\"dataframe\">\n",
       "  <thead>\n",
       "    <tr style=\"text-align: right;\">\n",
       "      <th></th>\n",
       "      <th>rownumber</th>\n",
       "      <th>customerid</th>\n",
       "      <th>surname</th>\n",
       "      <th>creditscore</th>\n",
       "      <th>geography</th>\n",
       "      <th>gender</th>\n",
       "      <th>age</th>\n",
       "      <th>tenure</th>\n",
       "      <th>balance</th>\n",
       "      <th>numofproducts</th>\n",
       "      <th>hascrcard</th>\n",
       "      <th>isactivemember</th>\n",
       "      <th>estimatedsalary</th>\n",
       "      <th>exited</th>\n",
       "    </tr>\n",
       "  </thead>\n",
       "  <tbody>\n",
       "    <tr>\n",
       "      <th>0</th>\n",
       "      <td>1</td>\n",
       "      <td>15634602</td>\n",
       "      <td>Hargrave</td>\n",
       "      <td>619</td>\n",
       "      <td>France</td>\n",
       "      <td>Female</td>\n",
       "      <td>42</td>\n",
       "      <td>2.0</td>\n",
       "      <td>0.00</td>\n",
       "      <td>1</td>\n",
       "      <td>1</td>\n",
       "      <td>1</td>\n",
       "      <td>101348.88</td>\n",
       "      <td>1</td>\n",
       "    </tr>\n",
       "    <tr>\n",
       "      <th>1</th>\n",
       "      <td>2</td>\n",
       "      <td>15647311</td>\n",
       "      <td>Hill</td>\n",
       "      <td>608</td>\n",
       "      <td>Spain</td>\n",
       "      <td>Female</td>\n",
       "      <td>41</td>\n",
       "      <td>1.0</td>\n",
       "      <td>83807.86</td>\n",
       "      <td>1</td>\n",
       "      <td>0</td>\n",
       "      <td>1</td>\n",
       "      <td>112542.58</td>\n",
       "      <td>0</td>\n",
       "    </tr>\n",
       "    <tr>\n",
       "      <th>2</th>\n",
       "      <td>3</td>\n",
       "      <td>15619304</td>\n",
       "      <td>Onio</td>\n",
       "      <td>502</td>\n",
       "      <td>France</td>\n",
       "      <td>Female</td>\n",
       "      <td>42</td>\n",
       "      <td>8.0</td>\n",
       "      <td>159660.80</td>\n",
       "      <td>3</td>\n",
       "      <td>1</td>\n",
       "      <td>0</td>\n",
       "      <td>113931.57</td>\n",
       "      <td>1</td>\n",
       "    </tr>\n",
       "    <tr>\n",
       "      <th>3</th>\n",
       "      <td>4</td>\n",
       "      <td>15701354</td>\n",
       "      <td>Boni</td>\n",
       "      <td>699</td>\n",
       "      <td>France</td>\n",
       "      <td>Female</td>\n",
       "      <td>39</td>\n",
       "      <td>1.0</td>\n",
       "      <td>0.00</td>\n",
       "      <td>2</td>\n",
       "      <td>0</td>\n",
       "      <td>0</td>\n",
       "      <td>93826.63</td>\n",
       "      <td>0</td>\n",
       "    </tr>\n",
       "    <tr>\n",
       "      <th>4</th>\n",
       "      <td>5</td>\n",
       "      <td>15737888</td>\n",
       "      <td>Mitchell</td>\n",
       "      <td>850</td>\n",
       "      <td>Spain</td>\n",
       "      <td>Female</td>\n",
       "      <td>43</td>\n",
       "      <td>2.0</td>\n",
       "      <td>125510.82</td>\n",
       "      <td>1</td>\n",
       "      <td>1</td>\n",
       "      <td>1</td>\n",
       "      <td>79084.10</td>\n",
       "      <td>0</td>\n",
       "    </tr>\n",
       "  </tbody>\n",
       "</table>\n",
       "</div>"
      ],
      "text/plain": [
       "   rownumber  customerid   surname  creditscore geography  gender  age  \\\n",
       "0          1    15634602  Hargrave          619    France  Female   42   \n",
       "1          2    15647311      Hill          608     Spain  Female   41   \n",
       "2          3    15619304      Onio          502    France  Female   42   \n",
       "3          4    15701354      Boni          699    France  Female   39   \n",
       "4          5    15737888  Mitchell          850     Spain  Female   43   \n",
       "\n",
       "   tenure    balance  numofproducts  hascrcard  isactivemember  \\\n",
       "0     2.0       0.00              1          1               1   \n",
       "1     1.0   83807.86              1          0               1   \n",
       "2     8.0  159660.80              3          1               0   \n",
       "3     1.0       0.00              2          0               0   \n",
       "4     2.0  125510.82              1          1               1   \n",
       "\n",
       "   estimatedsalary  exited  \n",
       "0        101348.88       1  \n",
       "1        112542.58       0  \n",
       "2        113931.57       1  \n",
       "3         93826.63       0  \n",
       "4         79084.10       0  "
      ]
     },
     "execution_count": 7,
     "metadata": {},
     "output_type": "execute_result"
    }
   ],
   "source": [
    "#Transformamos los nombres de las columnas a todas por igual, o sea, a minúscula\n",
    "data.columns = data.columns.str.lower()\n",
    "#Verificamos si se cambió\n",
    "data.head()"
   ]
  },
  {
   "cell_type": "markdown",
   "metadata": {},
   "source": [
    "<font color=green>\n",
    "    Transformamos los nombres de las columnas en minúscula.    \n",
    "</font>"
   ]
  },
  {
   "cell_type": "markdown",
   "metadata": {},
   "source": [
    "<font color=green>\n",
    "Como anteriormente detallado, tenemos 3 columnas con formato object:\n",
    "    \n",
    "- `surname`\n",
    "- `geography`\n",
    "- `gender`\n",
    "    \n",
    "Los cuales analizaremos   \n",
    "</font>"
   ]
  },
  {
   "cell_type": "code",
   "execution_count": 8,
   "metadata": {},
   "outputs": [
    {
     "name": "stdout",
     "output_type": "stream",
     "text": [
      "Cantidad de surname diferentes: 2932\n",
      "Cantidad de geography diferentes: 3\n",
      "Cantidad de gender diferentes: 2\n"
     ]
    }
   ],
   "source": [
    "print('Cantidad de surname diferentes:', data['surname'].nunique())\n",
    "print('Cantidad de geography diferentes:', data['geography'].nunique())\n",
    "print('Cantidad de gender diferentes:', data['gender'].nunique())"
   ]
  },
  {
   "cell_type": "markdown",
   "metadata": {},
   "source": [
    "<font color=green>\n",
    "Vemos que tenemos una gran cantidad de diferentes apellidos. Pero como contamos con la columna `customerid`, no es necesaria la columna `surname` para identificar a los clientes. Por lo tanto, podemos proceder a eliminarla.   \n",
    "</font>"
   ]
  },
  {
   "cell_type": "code",
   "execution_count": 9,
   "metadata": {},
   "outputs": [],
   "source": [
    "#Elimina la columna `surname`\n",
    "data = data.drop('surname', axis=1)"
   ]
  },
  {
   "cell_type": "markdown",
   "metadata": {},
   "source": [
    "<font color=green>\n",
    "Para las otras dos columnas tienen poca cantidad diferente, por lo tanto usaremos el método `get_dummies`.\n",
    "</font>"
   ]
  },
  {
   "cell_type": "code",
   "execution_count": 10,
   "metadata": {},
   "outputs": [],
   "source": [
    "data = pd.get_dummies(data, columns=['geography', 'gender'])\n",
    "# data= pd.get_dummies(data, columns=['gender'], drop_first = True)\n",
    "# data = pd.get_dummies(data, columns=['geography'])"
   ]
  },
  {
   "cell_type": "code",
   "execution_count": 11,
   "metadata": {},
   "outputs": [
    {
     "data": {
      "text/html": [
       "<div>\n",
       "<style scoped>\n",
       "    .dataframe tbody tr th:only-of-type {\n",
       "        vertical-align: middle;\n",
       "    }\n",
       "\n",
       "    .dataframe tbody tr th {\n",
       "        vertical-align: top;\n",
       "    }\n",
       "\n",
       "    .dataframe thead th {\n",
       "        text-align: right;\n",
       "    }\n",
       "</style>\n",
       "<table border=\"1\" class=\"dataframe\">\n",
       "  <thead>\n",
       "    <tr style=\"text-align: right;\">\n",
       "      <th></th>\n",
       "      <th>rownumber</th>\n",
       "      <th>customerid</th>\n",
       "      <th>creditscore</th>\n",
       "      <th>age</th>\n",
       "      <th>tenure</th>\n",
       "      <th>balance</th>\n",
       "      <th>numofproducts</th>\n",
       "      <th>hascrcard</th>\n",
       "      <th>isactivemember</th>\n",
       "      <th>estimatedsalary</th>\n",
       "      <th>exited</th>\n",
       "      <th>geography_France</th>\n",
       "      <th>geography_Germany</th>\n",
       "      <th>geography_Spain</th>\n",
       "      <th>gender_Female</th>\n",
       "      <th>gender_Male</th>\n",
       "    </tr>\n",
       "  </thead>\n",
       "  <tbody>\n",
       "    <tr>\n",
       "      <th>0</th>\n",
       "      <td>1</td>\n",
       "      <td>15634602</td>\n",
       "      <td>619</td>\n",
       "      <td>42</td>\n",
       "      <td>2.0</td>\n",
       "      <td>0.00</td>\n",
       "      <td>1</td>\n",
       "      <td>1</td>\n",
       "      <td>1</td>\n",
       "      <td>101348.88</td>\n",
       "      <td>1</td>\n",
       "      <td>1</td>\n",
       "      <td>0</td>\n",
       "      <td>0</td>\n",
       "      <td>1</td>\n",
       "      <td>0</td>\n",
       "    </tr>\n",
       "    <tr>\n",
       "      <th>1</th>\n",
       "      <td>2</td>\n",
       "      <td>15647311</td>\n",
       "      <td>608</td>\n",
       "      <td>41</td>\n",
       "      <td>1.0</td>\n",
       "      <td>83807.86</td>\n",
       "      <td>1</td>\n",
       "      <td>0</td>\n",
       "      <td>1</td>\n",
       "      <td>112542.58</td>\n",
       "      <td>0</td>\n",
       "      <td>0</td>\n",
       "      <td>0</td>\n",
       "      <td>1</td>\n",
       "      <td>1</td>\n",
       "      <td>0</td>\n",
       "    </tr>\n",
       "    <tr>\n",
       "      <th>2</th>\n",
       "      <td>3</td>\n",
       "      <td>15619304</td>\n",
       "      <td>502</td>\n",
       "      <td>42</td>\n",
       "      <td>8.0</td>\n",
       "      <td>159660.80</td>\n",
       "      <td>3</td>\n",
       "      <td>1</td>\n",
       "      <td>0</td>\n",
       "      <td>113931.57</td>\n",
       "      <td>1</td>\n",
       "      <td>1</td>\n",
       "      <td>0</td>\n",
       "      <td>0</td>\n",
       "      <td>1</td>\n",
       "      <td>0</td>\n",
       "    </tr>\n",
       "    <tr>\n",
       "      <th>3</th>\n",
       "      <td>4</td>\n",
       "      <td>15701354</td>\n",
       "      <td>699</td>\n",
       "      <td>39</td>\n",
       "      <td>1.0</td>\n",
       "      <td>0.00</td>\n",
       "      <td>2</td>\n",
       "      <td>0</td>\n",
       "      <td>0</td>\n",
       "      <td>93826.63</td>\n",
       "      <td>0</td>\n",
       "      <td>1</td>\n",
       "      <td>0</td>\n",
       "      <td>0</td>\n",
       "      <td>1</td>\n",
       "      <td>0</td>\n",
       "    </tr>\n",
       "    <tr>\n",
       "      <th>4</th>\n",
       "      <td>5</td>\n",
       "      <td>15737888</td>\n",
       "      <td>850</td>\n",
       "      <td>43</td>\n",
       "      <td>2.0</td>\n",
       "      <td>125510.82</td>\n",
       "      <td>1</td>\n",
       "      <td>1</td>\n",
       "      <td>1</td>\n",
       "      <td>79084.10</td>\n",
       "      <td>0</td>\n",
       "      <td>0</td>\n",
       "      <td>0</td>\n",
       "      <td>1</td>\n",
       "      <td>1</td>\n",
       "      <td>0</td>\n",
       "    </tr>\n",
       "  </tbody>\n",
       "</table>\n",
       "</div>"
      ],
      "text/plain": [
       "   rownumber  customerid  creditscore  age  tenure    balance  numofproducts  \\\n",
       "0          1    15634602          619   42     2.0       0.00              1   \n",
       "1          2    15647311          608   41     1.0   83807.86              1   \n",
       "2          3    15619304          502   42     8.0  159660.80              3   \n",
       "3          4    15701354          699   39     1.0       0.00              2   \n",
       "4          5    15737888          850   43     2.0  125510.82              1   \n",
       "\n",
       "   hascrcard  isactivemember  estimatedsalary  exited  geography_France  \\\n",
       "0          1               1        101348.88       1                 1   \n",
       "1          0               1        112542.58       0                 0   \n",
       "2          1               0        113931.57       1                 1   \n",
       "3          0               0         93826.63       0                 1   \n",
       "4          1               1         79084.10       0                 0   \n",
       "\n",
       "   geography_Germany  geography_Spain  gender_Female  gender_Male  \n",
       "0                  0                0              1            0  \n",
       "1                  0                1              1            0  \n",
       "2                  0                0              1            0  \n",
       "3                  0                0              1            0  \n",
       "4                  0                1              1            0  "
      ]
     },
     "execution_count": 11,
     "metadata": {},
     "output_type": "execute_result"
    }
   ],
   "source": [
    "#Verificamos como quedó:\n",
    "data.head()"
   ]
  },
  {
   "cell_type": "markdown",
   "metadata": {},
   "source": [
    "<font color=green>\n",
    "Las dos columnas, `rownumber`y `customerid` no aportan información muy útil para nuestros modelos para predecir algo, por lo tanto, podríamos eliminarlos.\n",
    "</font>"
   ]
  },
  {
   "cell_type": "code",
   "execution_count": 12,
   "metadata": {},
   "outputs": [],
   "source": [
    "data = data.drop(['rownumber', 'customerid'], axis=1)"
   ]
  },
  {
   "cell_type": "code",
   "execution_count": 13,
   "metadata": {
    "scrolled": true
   },
   "outputs": [
    {
     "data": {
      "text/html": [
       "<div>\n",
       "<style scoped>\n",
       "    .dataframe tbody tr th:only-of-type {\n",
       "        vertical-align: middle;\n",
       "    }\n",
       "\n",
       "    .dataframe tbody tr th {\n",
       "        vertical-align: top;\n",
       "    }\n",
       "\n",
       "    .dataframe thead th {\n",
       "        text-align: right;\n",
       "    }\n",
       "</style>\n",
       "<table border=\"1\" class=\"dataframe\">\n",
       "  <thead>\n",
       "    <tr style=\"text-align: right;\">\n",
       "      <th></th>\n",
       "      <th>creditscore</th>\n",
       "      <th>age</th>\n",
       "      <th>tenure</th>\n",
       "      <th>balance</th>\n",
       "      <th>numofproducts</th>\n",
       "      <th>hascrcard</th>\n",
       "      <th>isactivemember</th>\n",
       "      <th>estimatedsalary</th>\n",
       "      <th>exited</th>\n",
       "      <th>geography_France</th>\n",
       "      <th>geography_Germany</th>\n",
       "      <th>geography_Spain</th>\n",
       "      <th>gender_Female</th>\n",
       "      <th>gender_Male</th>\n",
       "    </tr>\n",
       "  </thead>\n",
       "  <tbody>\n",
       "    <tr>\n",
       "      <th>0</th>\n",
       "      <td>619</td>\n",
       "      <td>42</td>\n",
       "      <td>2.0</td>\n",
       "      <td>0.00</td>\n",
       "      <td>1</td>\n",
       "      <td>1</td>\n",
       "      <td>1</td>\n",
       "      <td>101348.88</td>\n",
       "      <td>1</td>\n",
       "      <td>1</td>\n",
       "      <td>0</td>\n",
       "      <td>0</td>\n",
       "      <td>1</td>\n",
       "      <td>0</td>\n",
       "    </tr>\n",
       "    <tr>\n",
       "      <th>1</th>\n",
       "      <td>608</td>\n",
       "      <td>41</td>\n",
       "      <td>1.0</td>\n",
       "      <td>83807.86</td>\n",
       "      <td>1</td>\n",
       "      <td>0</td>\n",
       "      <td>1</td>\n",
       "      <td>112542.58</td>\n",
       "      <td>0</td>\n",
       "      <td>0</td>\n",
       "      <td>0</td>\n",
       "      <td>1</td>\n",
       "      <td>1</td>\n",
       "      <td>0</td>\n",
       "    </tr>\n",
       "    <tr>\n",
       "      <th>2</th>\n",
       "      <td>502</td>\n",
       "      <td>42</td>\n",
       "      <td>8.0</td>\n",
       "      <td>159660.80</td>\n",
       "      <td>3</td>\n",
       "      <td>1</td>\n",
       "      <td>0</td>\n",
       "      <td>113931.57</td>\n",
       "      <td>1</td>\n",
       "      <td>1</td>\n",
       "      <td>0</td>\n",
       "      <td>0</td>\n",
       "      <td>1</td>\n",
       "      <td>0</td>\n",
       "    </tr>\n",
       "    <tr>\n",
       "      <th>3</th>\n",
       "      <td>699</td>\n",
       "      <td>39</td>\n",
       "      <td>1.0</td>\n",
       "      <td>0.00</td>\n",
       "      <td>2</td>\n",
       "      <td>0</td>\n",
       "      <td>0</td>\n",
       "      <td>93826.63</td>\n",
       "      <td>0</td>\n",
       "      <td>1</td>\n",
       "      <td>0</td>\n",
       "      <td>0</td>\n",
       "      <td>1</td>\n",
       "      <td>0</td>\n",
       "    </tr>\n",
       "    <tr>\n",
       "      <th>4</th>\n",
       "      <td>850</td>\n",
       "      <td>43</td>\n",
       "      <td>2.0</td>\n",
       "      <td>125510.82</td>\n",
       "      <td>1</td>\n",
       "      <td>1</td>\n",
       "      <td>1</td>\n",
       "      <td>79084.10</td>\n",
       "      <td>0</td>\n",
       "      <td>0</td>\n",
       "      <td>0</td>\n",
       "      <td>1</td>\n",
       "      <td>1</td>\n",
       "      <td>0</td>\n",
       "    </tr>\n",
       "  </tbody>\n",
       "</table>\n",
       "</div>"
      ],
      "text/plain": [
       "   creditscore  age  tenure    balance  numofproducts  hascrcard  \\\n",
       "0          619   42     2.0       0.00              1          1   \n",
       "1          608   41     1.0   83807.86              1          0   \n",
       "2          502   42     8.0  159660.80              3          1   \n",
       "3          699   39     1.0       0.00              2          0   \n",
       "4          850   43     2.0  125510.82              1          1   \n",
       "\n",
       "   isactivemember  estimatedsalary  exited  geography_France  \\\n",
       "0               1        101348.88       1                 1   \n",
       "1               1        112542.58       0                 0   \n",
       "2               0        113931.57       1                 1   \n",
       "3               0         93826.63       0                 1   \n",
       "4               1         79084.10       0                 0   \n",
       "\n",
       "   geography_Germany  geography_Spain  gender_Female  gender_Male  \n",
       "0                  0                0              1            0  \n",
       "1                  0                1              1            0  \n",
       "2                  0                0              1            0  \n",
       "3                  0                0              1            0  \n",
       "4                  0                1              1            0  "
      ]
     },
     "execution_count": 13,
     "metadata": {},
     "output_type": "execute_result"
    }
   ],
   "source": [
    "#Verificamos como quedó:\n",
    "data.head()"
   ]
  },
  {
   "cell_type": "markdown",
   "metadata": {},
   "source": [
    "<font color=green>\n",
    "Llegamos a la columna `tenure`, la cual tenía valores vacíos y que deben ser llenados. Conozcamos la columna.\n",
    "</font>"
   ]
  },
  {
   "cell_type": "code",
   "execution_count": 14,
   "metadata": {},
   "outputs": [
    {
     "data": {
      "text/plain": [
       "count    9091.000000\n",
       "mean        4.997690\n",
       "std         2.894723\n",
       "min         0.000000\n",
       "25%         2.000000\n",
       "50%         5.000000\n",
       "75%         7.000000\n",
       "max        10.000000\n",
       "Name: tenure, dtype: float64"
      ]
     },
     "execution_count": 14,
     "metadata": {},
     "output_type": "execute_result"
    }
   ],
   "source": [
    "data['tenure'].describe()"
   ]
  },
  {
   "cell_type": "code",
   "execution_count": 15,
   "metadata": {},
   "outputs": [
    {
     "data": {
      "text/plain": [
       "count    4550.000000\n",
       "mean        5.003956\n",
       "std         2.891377\n",
       "min         0.000000\n",
       "25%         3.000000\n",
       "50%         5.000000\n",
       "75%         7.000000\n",
       "max        10.000000\n",
       "Name: tenure, dtype: float64"
      ]
     },
     "execution_count": 15,
     "metadata": {},
     "output_type": "execute_result"
    }
   ],
   "source": [
    "data[data['geography_France']==1]['tenure'].describe()"
   ]
  },
  {
   "cell_type": "code",
   "execution_count": 16,
   "metadata": {},
   "outputs": [
    {
     "data": {
      "text/plain": [
       "count    2293.000000\n",
       "mean        4.981247\n",
       "std         2.936961\n",
       "min         0.000000\n",
       "25%         2.000000\n",
       "50%         5.000000\n",
       "75%         8.000000\n",
       "max        10.000000\n",
       "Name: tenure, dtype: float64"
      ]
     },
     "execution_count": 16,
     "metadata": {},
     "output_type": "execute_result"
    }
   ],
   "source": [
    "data[data['geography_Germany']==1]['tenure'].describe()"
   ]
  },
  {
   "cell_type": "code",
   "execution_count": 17,
   "metadata": {},
   "outputs": [
    {
     "data": {
      "text/plain": [
       "count    2248.000000\n",
       "mean        5.001779\n",
       "std         2.859100\n",
       "min         0.000000\n",
       "25%         3.000000\n",
       "50%         5.000000\n",
       "75%         8.000000\n",
       "max        10.000000\n",
       "Name: tenure, dtype: float64"
      ]
     },
     "execution_count": 17,
     "metadata": {},
     "output_type": "execute_result"
    }
   ],
   "source": [
    "data[data['geography_Spain']==1]['tenure'].describe()"
   ]
  },
  {
   "cell_type": "code",
   "execution_count": 18,
   "metadata": {},
   "outputs": [
    {
     "data": {
      "text/plain": [
       "count    4117.000000\n",
       "mean        4.957493\n",
       "std         2.908867\n",
       "min         0.000000\n",
       "25%         2.000000\n",
       "50%         5.000000\n",
       "75%         7.000000\n",
       "max        10.000000\n",
       "Name: tenure, dtype: float64"
      ]
     },
     "execution_count": 18,
     "metadata": {},
     "output_type": "execute_result"
    }
   ],
   "source": [
    "data[data['gender_Female']==1]['tenure'].describe()"
   ]
  },
  {
   "cell_type": "code",
   "execution_count": 19,
   "metadata": {},
   "outputs": [
    {
     "data": {
      "text/plain": [
       "count    4974.000000\n",
       "mean        5.030961\n",
       "std         2.882833\n",
       "min         0.000000\n",
       "25%         3.000000\n",
       "50%         5.000000\n",
       "75%         8.000000\n",
       "max        10.000000\n",
       "Name: tenure, dtype: float64"
      ]
     },
     "execution_count": 19,
     "metadata": {},
     "output_type": "execute_result"
    }
   ],
   "source": [
    "data[data['gender_Male']==1]['tenure'].describe()"
   ]
  },
  {
   "cell_type": "markdown",
   "metadata": {},
   "source": [
    "<font color=green>\n",
    "Analizando la columna tenure con geography y gender, observamos que la media y mediana, prácticamente tienen el mismo valor en cada caso. Esto no indica que la muestra de datos es bastante pareja. De todas formas, revisemos como se distribuyen con un diagrama de caja\n",
    "</font>"
   ]
  },
  {
   "cell_type": "code",
   "execution_count": 20,
   "metadata": {},
   "outputs": [
    {
     "data": {
      "image/png": "[encoded data removed]",
      "text/plain": [
       "<Figure size 720x360 with 1 Axes>"
      ]
     },
     "metadata": {
      "needs_background": "light"
     },
     "output_type": "display_data"
    }
   ],
   "source": [
    "data.boxplot(column = 'tenure', figsize=(10,5))\n",
    "plt.yticks(np.arange(0,10.1, step=1))\n",
    "plt.hlines(5,xmin=0.5,xmax=1.5, color='purple')\n",
    "plt.title('Boxplot columna Tenure')\n",
    "plt.show()"
   ]
  },
  {
   "cell_type": "markdown",
   "metadata": {},
   "source": [
    "<font color=green>\n",
    "Si bien, los datos están más inclinados hacia abajo, tanto la media como mediana están en el 5. Usaremos ese valor para llenar los valores vacíos de la columna `tenure`.\n",
    "</font>"
   ]
  },
  {
   "cell_type": "code",
   "execution_count": 21,
   "metadata": {},
   "outputs": [
    {
     "name": "stdout",
     "output_type": "stream",
     "text": [
      "<class 'pandas.core.frame.DataFrame'>\n",
      "RangeIndex: 10000 entries, 0 to 9999\n",
      "Data columns (total 14 columns):\n",
      " #   Column             Non-Null Count  Dtype  \n",
      "---  ------             --------------  -----  \n",
      " 0   creditscore        10000 non-null  int64  \n",
      " 1   age                10000 non-null  int64  \n",
      " 2   tenure             10000 non-null  float64\n",
      " 3   balance            10000 non-null  float64\n",
      " 4   numofproducts      10000 non-null  int64  \n",
      " 5   hascrcard          10000 non-null  int64  \n",
      " 6   isactivemember     10000 non-null  int64  \n",
      " 7   estimatedsalary    10000 non-null  float64\n",
      " 8   exited             10000 non-null  int64  \n",
      " 9   geography_France   10000 non-null  uint8  \n",
      " 10  geography_Germany  10000 non-null  uint8  \n",
      " 11  geography_Spain    10000 non-null  uint8  \n",
      " 12  gender_Female      10000 non-null  uint8  \n",
      " 13  gender_Male        10000 non-null  uint8  \n",
      "dtypes: float64(3), int64(6), uint8(5)\n",
      "memory usage: 752.1 KB\n"
     ]
    }
   ],
   "source": [
    "data['tenure'] = data['tenure'].fillna(value=5)\n",
    "#Verificamos si están completos los valores\n",
    "data.info()"
   ]
  },
  {
   "cell_type": "markdown",
   "metadata": {},
   "source": [
    "## Separación de datos\n",
    "\n",
    "<font color=green>\n",
    "Como mencionado antes, en este caso no debemos llenar datos faltantes ni corregir el formato de estos. Pero de todas formas, debemos preparar los datos antes de poder trabajar con ellos. Para poder entrenar, validar y testear el modelo, debemos efectuar 2 pasos antes:\n",
    "    \n",
    " 1. Dividir los datos en distintos grupos. En este caso, dejaremos el 60% para entrenar, 20% para validar y 20% para testear el modelo.\n",
    "\n",
    " 2. Crear los targets y features, considerando el entrenamiento, validación y testeo del modelo. Considerando la columna `exited` como el objetivo(target).\n",
    "</font>"
   ]
  },
  {
   "cell_type": "code",
   "execution_count": 22,
   "metadata": {},
   "outputs": [
    {
     "name": "stdout",
     "output_type": "stream",
     "text": [
      "Tamaño data_rest: (8000, 14)\n",
      "---------------------------\n",
      "Tamaño data_test: (2000, 14)\n"
     ]
    }
   ],
   "source": [
    "#Separamos el grupo de testeo\n",
    "data_rest, data_test = train_test_split(data, test_size=0.2, random_state=54321)\n",
    "print(f'Tamaño data_rest:', data_rest.shape)\n",
    "print('---------------------------')\n",
    "print(f'Tamaño data_test:', data_test.shape)"
   ]
  },
  {
   "cell_type": "code",
   "execution_count": 23,
   "metadata": {},
   "outputs": [
    {
     "name": "stdout",
     "output_type": "stream",
     "text": [
      "Tamaño data_train: (6000, 14)\n",
      "----------------------------\n",
      "Tamaño data_valid: (2000, 14)\n"
     ]
    }
   ],
   "source": [
    "#Separamos el grupo de entrenamiento y validación:\n",
    "data_train, data_valid = train_test_split(data_rest, test_size=0.25, random_state=54321)\n",
    "print(f'Tamaño data_train:', data_train.shape)\n",
    "print('----------------------------')\n",
    "print(f'Tamaño data_valid:', data_valid.shape)"
   ]
  },
  {
   "cell_type": "code",
   "execution_count": 24,
   "metadata": {},
   "outputs": [],
   "source": [
    "#Creamos los features y targets para nuestro modelo\n",
    "features_train = data_train.drop(['exited'], axis=1)\n",
    "target_train = data_train['exited']\n",
    "features_valid = data_valid.drop(['exited'], axis=1)\n",
    "target_valid = data_valid['exited']\n",
    "features_test = data_test.drop(['exited'], axis=1)\n",
    "target_test = data_test['exited']"
   ]
  },
  {
   "cell_type": "code",
   "execution_count": 25,
   "metadata": {},
   "outputs": [
    {
     "name": "stdout",
     "output_type": "stream",
     "text": [
      "DataFrame de Entrenamiento:\n",
      "(6000, 13)\n",
      "(6000,)\n",
      "------------------------\n",
      "DataFrame de Validación:\n",
      "(2000, 13)\n",
      "(2000,)\n",
      "----------------------\n",
      "DataFrame de Prueba:\n",
      "(2000, 13)\n",
      "(2000,)\n"
     ]
    }
   ],
   "source": [
    "#Imprimamos los tamaños finales de nuestros DataFrames\n",
    "print(f'DataFrame de Entrenamiento:')\n",
    "print(features_train.shape)\n",
    "print(target_train.shape)\n",
    "print('--'*12)\n",
    "print(f'DataFrame de Validación:')\n",
    "print(features_valid.shape)\n",
    "print(target_valid.shape)\n",
    "print('--'*11)\n",
    "print(f'DataFrame de Prueba:')\n",
    "print(features_test.shape)\n",
    "print(target_test.shape)"
   ]
  },
  {
   "cell_type": "markdown",
   "metadata": {},
   "source": [
    "# Modelos a ocupar\n",
    "<font color=green>\n",
    "Primero analizaremos los 3 tipos de modelos, sin ajustar el peso de clases. En todos los casos, comprobaremos los valores de Recall y Precisión.    \n",
    "</font>"
   ]
  },
  {
   "cell_type": "markdown",
   "metadata": {},
   "source": [
    "### Modelo: Árbol de decisión\n",
    "<font color=green>\n",
    "Para comenzar, utilizaremos el modelo de Árbol de decisión. Es el segundo modelo más rápido de procesamiento. Pero podemos jugar, cambiando su profundidad.    \n",
    "</font>"
   ]
  },
  {
   "cell_type": "code",
   "execution_count": 26,
   "metadata": {
    "scrolled": true
   },
   "outputs": [
    {
     "name": "stdout",
     "output_type": "stream",
     "text": [
      "Exactitud del mejor modelo en el conjunto de validación (depth = 11, leafs = 17): 0.6133004926108374\n"
     ]
    },
    {
     "data": {
      "text/plain": [
       "DecisionTreeClassifier(max_depth=11, min_samples_leaf=17, random_state=54321)"
      ]
     },
     "execution_count": 26,
     "metadata": {},
     "output_type": "execute_result"
    }
   ],
   "source": [
    "best_tree = 0\n",
    "best_depth = 0\n",
    "best_leaf = 0\n",
    "score = 0\n",
    "for depth in range(1, 20): # selecciona el rango del hiperparámetro\n",
    "    for leaf in range(1,20):\n",
    "        tree = DecisionTreeClassifier(random_state=54321, max_depth=depth, min_samples_leaf=leaf) # configura el número de árboles\n",
    "        tree.fit(features_train,target_train) # entrena el modelo en el conjunto de entrenamiento\n",
    "        predicted_valid = tree.predict(features_valid)\n",
    "        score = f1_score(target_valid, predicted_valid) # calcula la puntuación de exactitud en el conjunto de validación\n",
    "        if score > best_tree:\n",
    "            best_tree = score # guarda la mejor puntuación de exactitud en el conjunto de validación\n",
    "            best_depth = depth # guarda el número de estimadores que corresponden a la mejor puntuación de exactitud\n",
    "            best_leaf = leaf\n",
    "\n",
    "print(\"Exactitud del mejor modelo en el conjunto de validación (depth = {}, leafs = {}): {}\".format(best_depth, best_leaf, best_tree))\n",
    "\n",
    "final_tree = DecisionTreeClassifier(random_state=54321, max_depth=best_depth, min_samples_leaf=best_leaf) # cambia n_estimators para obtener el mejor modelo\n",
    "final_tree.fit(features_train, target_train)\n",
    "\n"
   ]
  },
  {
   "cell_type": "code",
   "execution_count": 27,
   "metadata": {},
   "outputs": [
    {
     "name": "stdout",
     "output_type": "stream",
     "text": [
      "Recall: 0.5633484162895928\n",
      "Precisión: 0.672972972972973\n"
     ]
    }
   ],
   "source": [
    "predicted_valid = final_tree.predict(features_valid)\n",
    "\n",
    "precision_tree = precision_score(target_valid, predicted_valid)\n",
    "recall_tree = recall_score(target_valid, predicted_valid)\n",
    "\n",
    "print('Recall:', recall_tree)\n",
    "print('Precisión:', precision_tree)\n",
    "\n",
    "\n"
   ]
  },
  {
   "cell_type": "code",
   "execution_count": 28,
   "metadata": {},
   "outputs": [
    {
     "name": "stdout",
     "output_type": "stream",
     "text": [
      "0.6133004926108374\n"
     ]
    }
   ],
   "source": [
    "print(f1_score(target_valid, predicted_valid))\n",
    "#print((2*precision_tree*recall_tree)/(precision_tree+recall_tree))"
   ]
  },
  {
   "cell_type": "markdown",
   "metadata": {},
   "source": [
    "<font color=green>\n",
    "Observamos que el valor de Recall se encuentra más cerca del 1 que del 0, indicando que el modelo es bueno para identificar verdaderos positivos.\n",
    "La Precisión se encuentra más cerca del 1 que del 0 también.\n",
    "Llegamos a cumplir el valor F1 mínimo requerido.   \n",
    "</font>"
   ]
  },
  {
   "cell_type": "markdown",
   "metadata": {},
   "source": [
    "### Bosque aleatorio"
   ]
  },
  {
   "cell_type": "code",
   "execution_count": 29,
   "metadata": {
    "scrolled": true
   },
   "outputs": [
    {
     "name": "stdout",
     "output_type": "stream",
     "text": [
      "Exactitud del mejor modelo en el conjunto de validación (n_estimators = 4, depth = 9): 0.5710306406685236\n"
     ]
    },
    {
     "data": {
      "text/plain": [
       "RandomForestClassifier(max_depth=9, n_estimators=4, random_state=54321)"
      ]
     },
     "execution_count": 29,
     "metadata": {},
     "output_type": "execute_result"
    }
   ],
   "source": [
    "best_forest = 0\n",
    "best_est = 0\n",
    "score=0\n",
    "best_depth = 0\n",
    "for est in range(1, 10): # selecciona el rango del hiperparámetro\n",
    "    for depth in range(1, 10): # selecciona el rango del hiperparámetro\n",
    "        forest = RandomForestClassifier(random_state=54321, n_estimators=est, max_depth=depth) # configura el número de árboles\n",
    "        forest.fit(features_train,target_train) # entrena el modelo en el conjunto de entrenamiento\n",
    "        predicted_valid = forest.predict(features_valid)\n",
    "        score = f1_score(target_valid, predicted_valid) # calcula la puntuación de exactitud en el conjunto de validación\n",
    "        if score > best_forest:\n",
    "            best_forest = score# guarda la mejor puntuación de exactitud en el conjunto de validación\n",
    "            best_est = est # guarda el número de estimadores que corresponden a la mejor puntuación de exactitud\n",
    "            best_depth = depth\n",
    "\n",
    "print(\"Exactitud del mejor modelo en el conjunto de validación (n_estimators = {}, depth = {}): {}\".format(best_est, best_depth, best_forest))\n",
    "\n",
    "final_forest = RandomForestClassifier(random_state=54321, n_estimators=best_est, max_depth=best_depth) # cambia n_estimators para obtener el mejor modelo\n",
    "final_forest.fit(features_train, target_train)\n",
    "\n"
   ]
  },
  {
   "cell_type": "code",
   "execution_count": 30,
   "metadata": {},
   "outputs": [
    {
     "name": "stdout",
     "output_type": "stream",
     "text": [
      "Recall: 0.4638009049773756\n",
      "Precisión: 0.7427536231884058\n"
     ]
    }
   ],
   "source": [
    "predict_valid = final_forest.predict(features_valid)\n",
    "\n",
    "precision_forest = precision_score(target_valid, predict_valid) # <escribe el código aquí  >\n",
    "recall_forest = recall_score(target_valid, predict_valid) # < escribe el código aquí  >\n",
    "\n",
    "print('Recall:', recall_forest)\n",
    "print('Precisión:', precision_forest)"
   ]
  },
  {
   "cell_type": "code",
   "execution_count": 31,
   "metadata": {},
   "outputs": [
    {
     "name": "stdout",
     "output_type": "stream",
     "text": [
      "0.5710306406685236\n"
     ]
    }
   ],
   "source": [
    "print(f1_score(target_valid, predict_valid))"
   ]
  },
  {
   "cell_type": "markdown",
   "metadata": {},
   "source": [
    "<font color=green>\n",
    "En el caso del bosque, observamos también que Recall es menor que Precisión. A su vez, Recall quedó más bajo y esá un poco más cerca del 0 que en el árbol.\n",
    "La precisión en cambio, aumentó levemente.\n",
    "Pero no pudimos cumplir con el valor mínimo de F1 de 0.59.  \n",
    "</font>"
   ]
  },
  {
   "cell_type": "markdown",
   "metadata": {},
   "source": [
    "### Regresión logística"
   ]
  },
  {
   "cell_type": "code",
   "execution_count": 32,
   "metadata": {},
   "outputs": [
    {
     "name": "stdout",
     "output_type": "stream",
     "text": [
      "Accuracy del modelo de regresión logística en el conjunto de entrenamiento: 0.7956666666666666\n",
      "Accuracy del modelo de regresión logística en el conjunto de validación: 0.7815\n"
     ]
    }
   ],
   "source": [
    "regl = LogisticRegression(random_state=54321, solver='liblinear') # inicializa el constructor de regresión logística con los parámetros random_state=54321 y solver='liblinear'\n",
    "regl.fit(features_train, target_train) # entrena el modelo en el conjunto de entrenamiento\n",
    "score_train = regl.score(features_train, target_train) # calcula la puntuación de accuracy en el conjunto de entrenamiento\n",
    "score_valid = regl.score(features_valid, target_valid) # calcula la puntuación de accuracy en el conjunto de validación\n",
    "\n",
    "print(\"Accuracy del modelo de regresión logística en el conjunto de entrenamiento:\", score_train)\n",
    "print(\"Accuracy del modelo de regresión logística en el conjunto de validación:\", score_valid)"
   ]
  },
  {
   "cell_type": "code",
   "execution_count": 33,
   "metadata": {},
   "outputs": [
    {
     "name": "stdout",
     "output_type": "stream",
     "text": [
      "F1: 0.03956043956043956\n",
      "Score: 0.7815\n",
      "\n",
      "Recall: 0.020361990950226245\n",
      "Precisión: 0.6923076923076923\n",
      "Puntuación F1 manual: 0.03956043956043956\n"
     ]
    }
   ],
   "source": [
    "reg = LogisticRegression(solver='liblinear', random_state=54321) # Creamos el modelo\n",
    "reg.fit(features_train, target_train) # Lo entrenamos\n",
    "\n",
    "pred_valid = reg.predict(features_valid) # Realizamos predicciones desde los datos de validación\n",
    "print('F1:', f1_score(target_valid, pred_valid)) # Vemos el valor de F1 de la regresión\n",
    "print('Score:', reg.score(features_valid,target_valid))\n",
    "print()\n",
    "\n",
    "precision_log = precision_score(target_valid, pred_valid) \n",
    "recall_log = recall_score(target_valid, pred_valid) \n",
    "\n",
    "print('Recall:', recall_log)\n",
    "print('Precisión:', precision_log)\n",
    "f1 = 2*precision_log*recall_log/(precision_log+recall_log)\n",
    "print('Puntuación F1 manual:', f1)\n",
    "\n"
   ]
  },
  {
   "cell_type": "markdown",
   "metadata": {},
   "source": [
    "<font color=green>\n",
    "En el caso de la Regresión logística, observamos que tenemos un valor de F1 muy por debajo.\n",
    "Recall está muy por debajo y demasiado cerca de 0.\n",
    "Precisión también bajó.\n",
    "</font>"
   ]
  },
  {
   "cell_type": "markdown",
   "metadata": {},
   "source": [
    "## Modelos balanceados\n",
    "\n",
    "<font color=green>\n",
    "Para balanceear los modelos, utilizaremos 3 medidas:\n",
    "    \n",
    "- Hiperparámetro: `class_weight='balanced'`\n",
    "- Para bosque aleatorio, Hiperparámetro: `class_weight='balanced_subsample'`\n",
    "- Cambiando el umbral de las respuestas positivas\n",
    "    \n",
    "En el cambio de umbral, aprovecharemos de estudiar el valor AUC-ROC en cada modelo.    \n",
    "</font>"
   ]
  },
  {
   "cell_type": "markdown",
   "metadata": {},
   "source": [
    "### Árbol de decisión"
   ]
  },
  {
   "cell_type": "code",
   "execution_count": 34,
   "metadata": {},
   "outputs": [
    {
     "name": "stdout",
     "output_type": "stream",
     "text": [
      "Exactitud del mejor modelo en el conjunto de validación (depth = 6, leafs = 9): 0.5928571428571429\n"
     ]
    },
    {
     "data": {
      "text/plain": [
       "DecisionTreeClassifier(max_depth=6, min_samples_leaf=9, random_state=54321)"
      ]
     },
     "execution_count": 34,
     "metadata": {},
     "output_type": "execute_result"
    }
   ],
   "source": [
    "best_tree = 0\n",
    "best_depth = 0\n",
    "best_leaf = 0\n",
    "score = 0\n",
    "for depth in range(1, 20): # selecciona el rango del hiperparámetro\n",
    "    for leaf in range(1,20):\n",
    "        tree = DecisionTreeClassifier(random_state=54321, max_depth=depth, min_samples_leaf=leaf, class_weight='balanced') # configura el número de árboles\n",
    "        tree.fit(features_train,target_train) # entrena el modelo en el conjunto de entrenamiento\n",
    "        predicted_valid = tree.predict(features_valid)\n",
    "        score = f1_score(target_valid, predicted_valid) # calcula la puntuación de exactitud en el conjunto de validación\n",
    "        if score > best_tree:\n",
    "            best_tree = score # guarda la mejor puntuación de exactitud en el conjunto de validación\n",
    "            best_depth = depth # guarda el número de estimadores que corresponden a la mejor puntuación de exactitud\n",
    "            best_leaf = leaf\n",
    "\n",
    "print(\"Exactitud del mejor modelo en el conjunto de validación (depth = {}, leafs = {}): {}\".format(best_depth, best_leaf, best_tree))\n",
    "\n",
    "final_balanced_tree = DecisionTreeClassifier(random_state=54321, max_depth=best_depth, min_samples_leaf=best_leaf) # cambia n_estimators para obtener el mejor modelo\n",
    "final_balanced_tree.fit(features_train, target_train)"
   ]
  },
  {
   "cell_type": "code",
   "execution_count": 35,
   "metadata": {},
   "outputs": [
    {
     "name": "stdout",
     "output_type": "stream",
     "text": [
      "Recall: 0.48642533936651583\n",
      "Precisión: 0.7570422535211268\n"
     ]
    }
   ],
   "source": [
    "predict_valid = final_balanced_tree.predict(features_valid)\n",
    "\n",
    "precision = precision_score(target_valid, predict_valid)\n",
    "recall = recall_score(target_valid, predict_valid)\n",
    "\n",
    "print('Recall:', recall)\n",
    "print('Precisión:', precision)"
   ]
  },
  {
   "cell_type": "code",
   "execution_count": 36,
   "metadata": {},
   "outputs": [
    {
     "name": "stdout",
     "output_type": "stream",
     "text": [
      "0.5922865013774105\n"
     ]
    }
   ],
   "source": [
    "print(f1_score(target_valid, predict_valid))"
   ]
  },
  {
   "cell_type": "markdown",
   "metadata": {},
   "source": [
    "<font color=green>\n",
    "Observamos que el valor de Recall del modelo balanceado de árbol, ha disminuido, al igual el valor F1.\n",
    "</font>"
   ]
  },
  {
   "cell_type": "code",
   "execution_count": 37,
   "metadata": {},
   "outputs": [
    {
     "name": "stdout",
     "output_type": "stream",
     "text": [
      "Threshold = 0.52 | Precision = 0.689, Recall = 0.557, F1 = 0.6158\n",
      "AUC-ROC: 0.8280876980001045\n"
     ]
    }
   ],
   "source": [
    "#Cambiamos de umbral:\n",
    "probabilities_valid = final_tree.predict_proba(features_valid)\n",
    "probabilities_one_valid = probabilities_valid[:, 1]\n",
    "\n",
    "best_treshold = 0\n",
    "score = 0\n",
    "best_precision = 0\n",
    "best_recall = 0\n",
    "best_score = 0\n",
    "\n",
    "for threshold in np.arange(0, 1, 0.02):\n",
    "    predicted_valid = probabilities_one_valid > threshold \n",
    "    score = f1_score(target_valid, predicted_valid) # calcula la puntuación de exactitud en el conjunto de validación\n",
    "    if score > best_score:\n",
    "        best_score = score\n",
    "        best_treshold = threshold # guarda la mejor puntuación de exactitud en el conjunto de validación\n",
    "        best_precision = precision_score(target_valid, predicted_valid) # guarda el número de estimadores que corresponden a la mejor puntuación de exactitud\n",
    "        best_recall = recall_score(target_valid,predicted_valid)\n",
    "\n",
    "print('Threshold = {:.2f} | Precision = {:.3f}, Recall = {:.3f}, F1 = {:.4f}'.format(best_treshold,best_precision,best_recall,best_score))\n",
    "\n",
    "auc_roc = roc_auc_score(target_valid, probabilities_one_valid)\n",
    "print('AUC-ROC:', auc_roc)"
   ]
  },
  {
   "cell_type": "markdown",
   "metadata": {},
   "source": [
    "<font color=green>\n",
    "Con el cambio del umbral, podemos observar que el valor de Recall aumenta y el valor de F1 aumentó de 0.58 a 0.60\n",
    "</font>"
   ]
  },
  {
   "cell_type": "markdown",
   "metadata": {},
   "source": [
    "### Bosque aleatorio"
   ]
  },
  {
   "cell_type": "code",
   "execution_count": 38,
   "metadata": {},
   "outputs": [
    {
     "name": "stdout",
     "output_type": "stream",
     "text": [
      "Exactitud del mejor modelo en el conjunto de validación (n_estimators = 9, depth = 9): 0.6190476190476191\n"
     ]
    },
    {
     "data": {
      "text/plain": [
       "RandomForestClassifier(class_weight='balanced', max_depth=9, n_estimators=9,\n",
       "                       random_state=54321)"
      ]
     },
     "execution_count": 38,
     "metadata": {},
     "output_type": "execute_result"
    }
   ],
   "source": [
    "best_forest = 0\n",
    "best_est = 0\n",
    "score=0\n",
    "best_depth = 0\n",
    "for est in range(1, 10): # selecciona el rango del hiperparámetro\n",
    "    for depth in range(1, 10): # selecciona el rango del hiperparámetro\n",
    "            forest = RandomForestClassifier(random_state=54321, n_estimators=est, max_depth=depth, class_weight='balanced') # configura el número de árboles\n",
    "            forest.fit(features_train,target_train) # entrena el modelo en el conjunto de entrenamiento\n",
    "            predicted_valid = forest.predict(features_valid)\n",
    "            score = f1_score(target_valid, predicted_valid) # calcula la puntuación de exactitud en el conjunto de validación\n",
    "            if score > best_forest:\n",
    "                best_forest = score# guarda la mejor puntuación de exactitud en el conjunto de validación\n",
    "                best_est = est # guarda el número de estimadores que corresponden a la mejor puntuación de exactitud\n",
    "                best_leaf = leaf\n",
    "                best_depth = depth\n",
    "\n",
    "print(\"Exactitud del mejor modelo en el conjunto de validación (n_estimators = {}, depth = {}): {}\".format(best_est, best_depth, best_forest))\n",
    "\n",
    "final_balanced_forest = RandomForestClassifier(random_state=54321, n_estimators=best_est, max_depth=best_depth, class_weight = 'balanced') # cambia n_estimators para obtener el mejor modelo\n",
    "final_balanced_forest.fit(features_train, target_train)"
   ]
  },
  {
   "cell_type": "code",
   "execution_count": 39,
   "metadata": {},
   "outputs": [
    {
     "name": "stdout",
     "output_type": "stream",
     "text": [
      "Recall: 0.6764705882352942\n",
      "Precisión: 0.5706106870229007\n"
     ]
    }
   ],
   "source": [
    "predict_valid = final_balanced_forest.predict(features_valid)\n",
    "\n",
    "precision = precision_score(target_valid, predict_valid) # <escribe el código aquí  >\n",
    "recall = recall_score(target_valid, predict_valid) # < escribe el código aquí  >\n",
    "\n",
    "print('Recall:', recall)\n",
    "print('Precisión:', precision)"
   ]
  },
  {
   "cell_type": "code",
   "execution_count": 40,
   "metadata": {},
   "outputs": [
    {
     "name": "stdout",
     "output_type": "stream",
     "text": [
      "0.6190476190476191\n"
     ]
    }
   ],
   "source": [
    "print(f1_score(target_valid, predict_valid))"
   ]
  },
  {
   "cell_type": "markdown",
   "metadata": {},
   "source": [
    "<font color=green>\n",
    "Balanceando el modelo del Bosque aleatorio, podemos observar que Recall subió a 0.67 y el valor F1 aumentó de 0.56 a 0.60\n",
    "</font>"
   ]
  },
  {
   "cell_type": "code",
   "execution_count": 41,
   "metadata": {},
   "outputs": [
    {
     "name": "stdout",
     "output_type": "stream",
     "text": [
      "Exactitud del mejor modelo en el conjunto de validación (n_estimators = 9, depth = 6): 0.6150832517140058\n"
     ]
    },
    {
     "data": {
      "text/plain": [
       "RandomForestClassifier(class_weight='balanced_subsample', max_depth=6,\n",
       "                       n_estimators=9, random_state=54321)"
      ]
     },
     "execution_count": 41,
     "metadata": {},
     "output_type": "execute_result"
    }
   ],
   "source": [
    "#Bosque aleatorio con clase de peso 'balanced_subsample'\n",
    "best_forest = 0\n",
    "best_est = 0\n",
    "score=0\n",
    "best_depth = 0\n",
    "for est in range(1, 10): # selecciona el rango del hiperparámetro\n",
    "    for depth in range(1, 10): # selecciona el rango del hiperparámetro\n",
    "        forest = RandomForestClassifier(random_state=54321, n_estimators=est, max_depth=depth, class_weight='balanced_subsample') # configura el número de árboles\n",
    "        forest.fit(features_train,target_train) # entrena el modelo en el conjunto de entrenamiento\n",
    "        predicted_valid = forest.predict(features_valid)\n",
    "        score = f1_score(target_valid, predicted_valid) # calcula la puntuación de exactitud en el conjunto de validación\n",
    "        if score > best_forest:\n",
    "            best_forest = score# guarda la mejor puntuación de exactitud en el conjunto de validación\n",
    "            best_est = est # guarda el número de estimadores que corresponden a la mejor puntuación de exactitud\n",
    "            best_depth = depth\n",
    "\n",
    "print(\"Exactitud del mejor modelo en el conjunto de validación (n_estimators = {}, depth = {}): {}\".format(best_est, best_depth, best_forest))\n",
    "\n",
    "final_balanced_sub_forest = RandomForestClassifier(random_state=54321, n_estimators=best_est, max_depth=best_depth, class_weight='balanced_subsample') # cambia n_estimators para obtener el mejor modelo\n",
    "final_balanced_sub_forest.fit(features_train, target_train)\n",
    "\n"
   ]
  },
  {
   "cell_type": "code",
   "execution_count": 42,
   "metadata": {},
   "outputs": [
    {
     "name": "stdout",
     "output_type": "stream",
     "text": [
      "Recall: 0.7104072398190046\n",
      "Precisión: 0.542314335060449\n"
     ]
    }
   ],
   "source": [
    "final_balanced_sub_forest_predict_valid = final_balanced_sub_forest.predict(features_valid)\n",
    "\n",
    "precision_fbsf = precision_score(target_valid, final_balanced_sub_forest_predict_valid) \n",
    "recall_fbsf = recall_score(target_valid, final_balanced_sub_forest_predict_valid)\n",
    "\n",
    "print('Recall:', recall_fbsf)\n",
    "print('Precisión:', precision_fbsf)\n",
    "\n"
   ]
  },
  {
   "cell_type": "code",
   "execution_count": 43,
   "metadata": {},
   "outputs": [
    {
     "name": "stdout",
     "output_type": "stream",
     "text": [
      "0.6150832517140058\n"
     ]
    }
   ],
   "source": [
    "print(f1_score(target_valid, final_balanced_sub_forest_predict_valid))"
   ]
  },
  {
   "cell_type": "markdown",
   "metadata": {},
   "source": [
    "<font color=green>\n",
    "Al ocupar un modelo de Bosque aleatorio con parámetro \"balanced_subsample\", podemos observar que Recall subió a 0.67 y el valor F1 aumentó de 0.56 a 0.60\n",
    "</font>"
   ]
  },
  {
   "cell_type": "markdown",
   "metadata": {},
   "source": [
    "<font color=green>\n",
    "Procederemos con el cambio de umbral. Para estudiar el efecto entre los modelos de Bosque aleatorio; Bosque sin balancear, Bosque balanceado y Bosque Balanceado con subsample.\n",
    "</font>\n"
   ]
  },
  {
   "cell_type": "code",
   "execution_count": 44,
   "metadata": {},
   "outputs": [
    {
     "name": "stdout",
     "output_type": "stream",
     "text": [
      "Threshold = 0.26 | Precision = 0.561, Recall = 0.676, F1 = 0.6133\n",
      "AUC-ROC: 0.8411715332918988\n"
     ]
    }
   ],
   "source": [
    "#Bosque aleatorio sin balanceo:\n",
    "probabilities_valid = final_forest.predict_proba(features_valid)\n",
    "probabilities_one_valid = probabilities_valid[:, 1]\n",
    "\n",
    "best_treshold = 0\n",
    "score = 0\n",
    "best_precision = 0\n",
    "best_recall = 0\n",
    "best_score = 0\n",
    "\n",
    "for threshold in np.arange(0, 1, 0.02):\n",
    "    predicted_valid = probabilities_one_valid > threshold \n",
    "    score = f1_score(target_valid, predicted_valid) # calcula la puntuación de exactitud en el conjunto de validación\n",
    "    if score > best_score:\n",
    "        best_score = score\n",
    "        best_treshold = threshold # guarda la mejor puntuación de exactitud en el conjunto de validación\n",
    "        best_precision = precision_score(target_valid, predicted_valid) # guarda el número de estimadores que corresponden a la mejor puntuación de exactitud\n",
    "        best_recall = recall_score(target_valid,predicted_valid)\n",
    "\n",
    "print('Threshold = {:.2f} | Precision = {:.3f}, Recall = {:.3f}, F1 = {:.4f}'.format(best_treshold,best_precision,best_recall,best_score))\n",
    "\n",
    "auc_roc = roc_auc_score(target_valid, probabilities_one_valid)\n",
    "print('AUC-ROC:', auc_roc)"
   ]
  },
  {
   "cell_type": "markdown",
   "metadata": {},
   "source": [
    "<font color=green>\n",
    "Observamos que nuestro Recall aumentó y nuestro F1 score también aumentó. La Precisión en cambio, disminuyó.   \n",
    "</font>"
   ]
  },
  {
   "cell_type": "code",
   "execution_count": 45,
   "metadata": {},
   "outputs": [
    {
     "name": "stdout",
     "output_type": "stream",
     "text": [
      "Threshold = 0.48 | Precision = 0.558, Recall = 0.701, F1 = 0.6212\n",
      "AUC-ROC: 0.8398028857044941\n"
     ]
    }
   ],
   "source": [
    "#Bosque aleatorio balanceado:\n",
    "probabilities_valid = final_balanced_forest.predict_proba(features_valid)\n",
    "probabilities_one_valid = probabilities_valid[:, 1]\n",
    "\n",
    "best_treshold = 0\n",
    "score = 0\n",
    "best_precision = 0\n",
    "best_recall = 0\n",
    "best_score = 0\n",
    "\n",
    "for threshold in np.arange(0, 1, 0.02):\n",
    "    predicted_valid = probabilities_one_valid > threshold \n",
    "    score = f1_score(target_valid, predicted_valid) # calcula la puntuación de exactitud en el conjunto de validación\n",
    "    if score > best_score:\n",
    "        best_score = score\n",
    "        best_treshold = threshold # guarda la mejor puntuación de exactitud en el conjunto de validación\n",
    "        best_precision = precision_score(target_valid, predicted_valid) # guarda el número de estimadores que corresponden a la mejor puntuación de exactitud\n",
    "        best_recall = recall_score(target_valid,predicted_valid)\n",
    "\n",
    "print('Threshold = {:.2f} | Precision = {:.3f}, Recall = {:.3f}, F1 = {:.4f}'.format(best_treshold,best_precision,best_recall,best_score))\n",
    "\n",
    "auc_roc = roc_auc_score(target_valid, probabilities_one_valid)\n",
    "print('AUC-ROC:', auc_roc)"
   ]
  },
  {
   "cell_type": "markdown",
   "metadata": {},
   "source": [
    "<font color=green>\n",
    "Observamos que nuestro Recall disminuyó un poco comparado con el modelo anterior. Pero nuestro F1 score aumentó levemente. La Precisión aumentó levemente.   \n",
    "</font>"
   ]
  },
  {
   "cell_type": "code",
   "execution_count": 46,
   "metadata": {},
   "outputs": [
    {
     "name": "stdout",
     "output_type": "stream",
     "text": [
      "Threshold = 0.52 | Precision = 0.568, Recall = 0.676, F1 = 0.6178\n",
      "AUC-ROC: 0.8533071172578838\n"
     ]
    }
   ],
   "source": [
    "#Bosque aleatorio balanceado con subsamples\n",
    "probabilities_valid = final_balanced_sub_forest.predict_proba(features_valid)\n",
    "probabilities_one_valid = probabilities_valid[:, 1]\n",
    "\n",
    "best_treshold = 0\n",
    "score = 0\n",
    "best_precision = 0\n",
    "best_recall = 0\n",
    "best_score = 0\n",
    "\n",
    "for threshold in np.arange(0, 1, 0.02):\n",
    "    predicted_valid = probabilities_one_valid > threshold \n",
    "    score = f1_score(target_valid, predicted_valid) # calcula la puntuación de exactitud en el conjunto de validación\n",
    "    if score > best_score:\n",
    "        best_score = score\n",
    "        best_treshold = threshold # guarda la mejor puntuación de exactitud en el conjunto de validación\n",
    "        best_precision = precision_score(target_valid, predicted_valid) # guarda el número de estimadores que corresponden a la mejor puntuación de exactitud\n",
    "        best_recall = recall_score(target_valid,predicted_valid)\n",
    "\n",
    "print('Threshold = {:.2f} | Precision = {:.3f}, Recall = {:.3f}, F1 = {:.4f}'.format(best_treshold,best_precision,best_recall,best_score))\n",
    "\n",
    "auc_roc = roc_auc_score(target_valid, probabilities_one_valid)\n",
    "print('AUC-ROC:', auc_roc)"
   ]
  },
  {
   "cell_type": "markdown",
   "metadata": {},
   "source": [
    "<font color=green>\n",
    "Observamos que nuestro Recall disminuyó levemente. La precisión aumentó levemente y el valor F1 se mantuvo casi igual. Podríamos conluir que nuestro Bosque aleatorio balanceado con un umbral del 52% tiene el valor F1 más alto.    \n",
    "</font>"
   ]
  },
  {
   "cell_type": "markdown",
   "metadata": {},
   "source": [
    "### Regresión Logística"
   ]
  },
  {
   "cell_type": "code",
   "execution_count": 47,
   "metadata": {},
   "outputs": [
    {
     "name": "stdout",
     "output_type": "stream",
     "text": [
      "F1: 0.49261849261849266\n",
      "Score:  0.6735\n",
      "\n",
      "Recall: 0.7171945701357466\n",
      "Precisión: 0.37514792899408284\n",
      "Puntuación F1 manual: 0.49261849261849266\n"
     ]
    }
   ],
   "source": [
    "balanced_reg = LogisticRegression(random_state=12345, solver='liblinear', class_weight='balanced')\n",
    "balanced_reg.fit(features_train, target_train)\n",
    "balanced_reg_pred_valid = balanced_reg.predict(features_valid)\n",
    "print('F1:', f1_score(target_valid, balanced_reg_pred_valid))\n",
    "print('Score: ', balanced_reg.score(features_valid, target_valid))\n",
    "print()\n",
    "\n",
    "precision_balanced_log = precision_score(target_valid, balanced_reg_pred_valid) \n",
    "recall_balanced_log = recall_score(target_valid, balanced_reg_pred_valid) \n",
    "\n",
    "print('Recall:', recall_balanced_log)\n",
    "print('Precisión:', precision_balanced_log)\n",
    "f1 = 2*precision_balanced_log*recall_balanced_log/(precision_balanced_log+recall_balanced_log)\n",
    "print('Puntuación F1 manual:', f1)"
   ]
  },
  {
   "cell_type": "markdown",
   "metadata": {},
   "source": [
    "<font color=green>\n",
    "Observamos que la regresión lógica nos arroja un Recall alto, pero una baja precisión y el valor F1 no estaría cumpliendo con el mínimo requerido.    \n",
    "</font>"
   ]
  },
  {
   "cell_type": "code",
   "execution_count": 48,
   "metadata": {},
   "outputs": [
    {
     "name": "stdout",
     "output_type": "stream",
     "text": [
      "Threshold = 0.22 | Precision = 0.329, Recall = 0.600, F1 = 0.4250\n",
      "AUC-ROC: 0.669034148664897\n"
     ]
    }
   ],
   "source": [
    "#Cambio de umbral para la regresión logística\n",
    "probabilities_valid = reg.predict_proba(features_valid)\n",
    "probabilities_one_valid = probabilities_valid[:, 1]\n",
    "\n",
    "best_treshold = 0\n",
    "score = 0\n",
    "best_precision = 0\n",
    "best_recall = 0\n",
    "best_score = 0\n",
    "\n",
    "for threshold in np.arange(0, 1, 0.02):\n",
    "    predicted_valid = probabilities_one_valid > threshold \n",
    "    score = f1_score(target_valid, predicted_valid) # calcula la puntuación de exactitud en el conjunto de validación\n",
    "    if score > best_score:\n",
    "        best_score = score\n",
    "        best_treshold = threshold # guarda la mejor puntuación de exactitud en el conjunto de validación\n",
    "        best_precision = precision_score(target_valid, predicted_valid) # guarda el número de estimadores que corresponden a la mejor puntuación de exactitud\n",
    "        best_recall = recall_score(target_valid,predicted_valid)\n",
    "\n",
    "print('Threshold = {:.2f} | Precision = {:.3f}, Recall = {:.3f}, F1 = {:.4f}'.format(best_treshold,best_precision,best_recall,best_score))\n",
    "\n",
    "auc_roc = roc_auc_score(target_valid, probabilities_one_valid)\n",
    "print('AUC-ROC:', auc_roc)"
   ]
  },
  {
   "cell_type": "markdown",
   "metadata": {},
   "source": [
    "<font color=green>\n",
    "En el cambio de umbral de la regresión Logística, observamos que si bien, tenemos un alto valor Recall, nuestro valor F1 es bastante bajo.   \n",
    "</font>"
   ]
  },
  {
   "cell_type": "code",
   "execution_count": 49,
   "metadata": {},
   "outputs": [
    {
     "name": "stdout",
     "output_type": "stream",
     "text": [
      "Threshold = 0.54 | Precision = 0.415, Recall = 0.631, F1 = 0.5009\n",
      "AUC-ROC: 0.7372632275977439\n"
     ]
    }
   ],
   "source": [
    "#Cambio de umbral para la regresión logística balanceada\n",
    "probabilities_valid = balanced_reg.predict_proba(features_valid)\n",
    "probabilities_one_valid = probabilities_valid[:, 1]\n",
    "\n",
    "best_treshold = 0\n",
    "score = 0\n",
    "best_precision = 0\n",
    "best_recall = 0\n",
    "best_score = 0\n",
    "\n",
    "for threshold in np.arange(0, 1, 0.02):\n",
    "    predicted_valid = probabilities_one_valid > threshold \n",
    "    score = f1_score(target_valid, predicted_valid) # calcula la puntuación de exactitud en el conjunto de validación\n",
    "    if score > best_score:\n",
    "        best_score = score\n",
    "        best_treshold = threshold # guarda la mejor puntuación de exactitud en el conjunto de validación\n",
    "        best_precision = precision_score(target_valid, predicted_valid) # guarda el número de estimadores que corresponden a la mejor puntuación de exactitud\n",
    "        best_recall = recall_score(target_valid,predicted_valid)\n",
    "\n",
    "print('Threshold = {:.2f} | Precision = {:.3f}, Recall = {:.3f}, F1 = {:.4f}'.format(best_treshold,best_precision,best_recall,best_score))\n",
    "\n",
    "auc_roc = roc_auc_score(target_valid, probabilities_one_valid)\n",
    "print('AUC-ROC:', auc_roc)"
   ]
  },
  {
   "cell_type": "markdown",
   "metadata": {},
   "source": [
    "<font color=green>\n",
    "Observamos que la regresión lógistica balanceada, al igual que la Regresión Logística no balanceada, nos arroja un Recall alto, pero un valor F1 bajo, si bién más alto que la no balanceada, pero comparado con los otros modelos, más bajo.    \n",
    "</font>"
   ]
  },
  {
   "cell_type": "markdown",
   "metadata": {},
   "source": [
    "## Testeo de los mejores modelos\n",
    "<font color=green>\n",
    "Al haber probado varios modelos y teniendo más información sobre estos, podemos comenzar a testearlos. Para estos tests, consideraremos 2 modelos con el mayor valor F1:\n",
    "\n",
    "- `final_balanced_forest` con un valor F1 de 0.607   \n",
    "- `fina_balanced_sub_forest`con un valor F1 de 0.617\n",
    "</font>"
   ]
  },
  {
   "cell_type": "code",
   "execution_count": 50,
   "metadata": {},
   "outputs": [],
   "source": [
    "#creamos los target y features basados en 'data_rest'\n",
    "features_rest = data_rest.drop(['exited'], axis=1)\n",
    "target_rest = data_rest['exited']"
   ]
  },
  {
   "cell_type": "code",
   "execution_count": 51,
   "metadata": {},
   "outputs": [
    {
     "name": "stdout",
     "output_type": "stream",
     "text": [
      "Puntaje del modelo: 0.8285\n",
      "F1: 0.6088939566704674\n",
      "AUC-ROC: 0.8672041726389553\n"
     ]
    }
   ],
   "source": [
    "final_balanced_forest = RandomForestClassifier(random_state=54321, n_estimators=9, max_depth=9, class_weight='balanced') # cambia n_estimators para obtener el mejor modelo\n",
    "final_balanced_forest.fit(features_rest, target_rest)\n",
    "\n",
    "score = final_balanced_forest.score(features_test, target_test)\n",
    "print('Puntaje del modelo:', score)\n",
    "\n",
    "predicted_test = final_balanced_forest.predict(features_test)\n",
    "f1 = f1_score(target_test, predicted_test)\n",
    "print('F1:', f1)\n",
    "\n",
    "probabilities_test = final_balanced_forest.predict_proba(features_test)\n",
    "probabilities_one_test = probabilities_test[:, 1]\n",
    "auc_roc = roc_auc_score(target_test, probabilities_one_test)\n",
    "print('AUC-ROC:', auc_roc)"
   ]
  },
  {
   "cell_type": "code",
   "execution_count": 52,
   "metadata": {},
   "outputs": [
    {
     "name": "stdout",
     "output_type": "stream",
     "text": [
      "Puntaje del modelo: 0.8285\n",
      "F1: 0.6088939566704674\n",
      "AUC-ROC: 0.8672041726389553\n"
     ]
    }
   ],
   "source": [
    "fina_balanced_sub_forest = RandomForestClassifier(random_state=54321, n_estimators=9, max_depth=9, class_weight='balanced') # cambia n_estimators para obtener el mejor modelo\n",
    "fina_balanced_sub_forest.fit(features_rest, target_rest)\n",
    "\n",
    "score = fina_balanced_sub_forest.score(features_test, target_test)\n",
    "print('Puntaje del modelo:', score)\n",
    "\n",
    "predicted_test = fina_balanced_sub_forest.predict(features_test)\n",
    "f1 = f1_score(target_test, predicted_test)\n",
    "print('F1:', f1)\n",
    "\n",
    "probabilities_test = fina_balanced_sub_forest.predict_proba(features_test)\n",
    "probabilities_one_test = probabilities_test[:, 1]\n",
    "auc_roc = roc_auc_score(target_test, probabilities_one_test)\n",
    "print('AUC-ROC:', auc_roc)"
   ]
  },
  {
   "cell_type": "markdown",
   "metadata": {},
   "source": [
    "# Conclusión\n",
    "<font color=green>\n",
    "Observamos que el valor F1 en ambos modelos, con los data_rest, son iguales y subieron levemente a 0.627, siendo nuestros modelos finales:\n",
    "\n",
    "- `RandomForestClassifier(random_state=54321, n_estimators=9, max_depth=9, class_weight='balanced')`\n",
    "\n",
    "Y nuestros valores finales de las métricas son:\n",
    "\n",
    "- Puntaje del modelo: 0.837\n",
    "- F1: 0.6278538812785388\n",
    "- AUC-ROC: 0.8657652492435102\n",
    "</font>"
   ]
  },
  {
   "cell_type": "markdown",
   "metadata": {},
   "source": []
  }
 ],
 "metadata": {
  "kernelspec": {
   "display_name": "Python 3 (ipykernel)",
   "language": "python",
   "name": "python3"
  },
  "language_info": {
   "codemirror_mode": {
    "name": "ipython",
    "version": 3
   },
   "file_extension": ".py",
   "mimetype": "text/x-python",
   "name": "python",
   "nbconvert_exporter": "python",
   "pygments_lexer": "ipython3",
   "version": "3.11.3"
  },
  "toc": {
   "base_numbering": 1,
   "nav_menu": {},
   "number_sections": true,
   "sideBar": true,
   "skip_h1_title": true,
   "title_cell": "Table of Contents",
   "title_sidebar": "Contents",
   "toc_cell": false,
   "toc_position": {},
   "toc_section_display": true,
   "toc_window_display": false
  }
 },
 "nbformat": 4,
 "nbformat_minor": 2
}
